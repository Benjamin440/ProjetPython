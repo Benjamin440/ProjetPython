{
 "cells": [
  {
   "cell_type": "code",
   "execution_count": null,
   "metadata": {},
   "outputs": [],
   "source": [
    "import Etudiant\n",
    "\n",
    "### Modification User ###\n",
    "\n",
    "def modify_User(self, Etudiant):\n",
    "    print(\"Modification de l'utilisateur\")\n",
    "    print(\"1. Nom\")\n",
    "    print(\"2. Prénom\")\n",
    "    print(\"3. Numéro d'étudiant\")\n",
    "    print(\"4. Année d'étude\")\n",
    "    print(\"5. Filière\")\n",
    "    print(\"6. Classe\")\n",
    "    print(\"7. Absences\")\n",
    "    print(\"8. Email\")\n",
    "    print(\"9. login\")\n",
    "    print(\"10. Password\")\n",
    "    print(\"11. Retour\")\n",
    "    choice = input(\"Entrez votre choix: \")\n",
    "    if choice == \"1\":\n",
    "        Etudiant.set_nom(input(\"Entrez le nouveau nom: \"))\n",
    "    elif choice == \"2\":\n",
    "        Etudiant.set_prenom(input(\"Entrez le nouveau prénom: \"))\n",
    "    \n",
    "    modify_User(self, Etudiant)"
   ]
  }
 ],
 "metadata": {
  "language_info": {
   "name": "python"
  }
 },
 "nbformat": 4,
 "nbformat_minor": 2
}
