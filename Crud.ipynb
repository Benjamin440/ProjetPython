{
 "cells": [
  {
   "cell_type": "code",
   "execution_count": null,
   "metadata": {},
   "outputs": [],
   "source": [
    "import Etudiant\n",
    "\n",
    "### Modification User ###\n",
    "\n",
    "def modify_User(self, Etudiant):\n",
    "    print(\"Modification de l'utilisateur\")\n",
    "    print(\"1. Nom\")\n",
    "    print(\"2. Prénom\")\n",
    "    print(\"3. Numéro d'étudiant\")\n",
    "    print(\"4. Année d'étude\")\n",
    "    print(\"5. Filière\")\n",
    "    print(\"6. Classe\")\n",
    "    print(\"7. Absences\")\n",
    "    print(\"8. Email\")\n",
    "    print(\"9. login\")\n",
    "    print(\"10. Password\")\n",
    "    print(\"11. Retour\")\n",
    "    choice = input(\"Entrez votre choix: \")\n",
    "    if choice == \"1\":\n",
    "        Etudiant.set_nom(input(\"Entrez le nouveau nom: \"))\n",
    "    elif choice == \"2\":\n",
    "        Etudiant.set_prenom(input(\"Entrez le nouveau prénom: \"))\n",
    "    elif choice == \"3\":\n",
    "        Etudiant.set_num_etudiant(input(\"Entrez le nouveau numéro d'étudiant: \"))\n",
    "    elif choice == \"4\":\n",
    "        Etudiant.set_aScolaire(input(\"Entrez la nouvelle année d'étude: \"))\n",
    "    elif choice == \"5\":\n",
    "        Etudiant.set_filière(input(\"Entrez la nouvelle filière: \"))\n",
    "    elif choice == \"6\":\n",
    "        Etudiant.set_classe(input(\"Entrez la nouvelle classe: \"))\n",
    "    elif choice == \"7\":\n",
    "        Etudiant.set_absence(input(\"Entrez le nouveau nombre d'absences: \"))\n",
    "    elif choice == \"8\":\n",
    "        Etudiant.set_email(input(\"Entrez le nouvel email: \"))\n",
    "    elif choice == \"9\":\n",
    "        Etudiant.set_login(input(\"Entrez le nouveau login: \"))\n",
    "    elif choice == \"10\":\n",
    "        Etudiant.set_password(input(\"Entrez le nouveau mot de passe: \"))\n",
    "    elif choice == \"11\":\n",
    "        modify_User(self, Etudiant)\n",
    "\n",
    "        "
   ]
  }
 ],
 "metadata": {
  "language_info": {
   "name": "python"
  }
 },
 "nbformat": 4,
 "nbformat_minor": 2
}
